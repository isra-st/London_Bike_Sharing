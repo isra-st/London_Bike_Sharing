{
 "cells": [
  {
   "cell_type": "code",
   "execution_count": 1,
   "metadata": {},
   "outputs": [],
   "source": [
    "import pandas as pd\n",
    "import os\n",
    "import seaborn as sns\n",
    "import numpy as np\n",
    "import matplotlib.pyplot as plt\n",
    "from scipy.stats import norm\n",
    "from scipy.stats import norm"
   ]
  },
  {
   "cell_type": "markdown",
   "metadata": {},
   "source": [
    "### Visualisation de la dataset + étude "
   ]
  },
  {
   "cell_type": "code",
   "execution_count": 2,
   "metadata": {},
   "outputs": [],
   "source": [
    "os.listdir()\n",
    "df=pd.read_csv(r'D:\\IronHack\\Projet-Semaine-5-6\\london_bike_sharing\\london_merged_v1.csv.csv')"
   ]
  },
  {
   "cell_type": "code",
   "execution_count": 45,
   "metadata": {
    "collapsed": true
   },
   "outputs": [
    {
     "data": {
      "text/html": [
       "<div>\n",
       "<style scoped>\n",
       "    .dataframe tbody tr th:only-of-type {\n",
       "        vertical-align: middle;\n",
       "    }\n",
       "\n",
       "    .dataframe tbody tr th {\n",
       "        vertical-align: top;\n",
       "    }\n",
       "\n",
       "    .dataframe thead th {\n",
       "        text-align: right;\n",
       "    }\n",
       "</style>\n",
       "<table border=\"1\" class=\"dataframe\">\n",
       "  <thead>\n",
       "    <tr style=\"text-align: right;\">\n",
       "      <th></th>\n",
       "      <th>index</th>\n",
       "      <th>timestamp</th>\n",
       "      <th>date</th>\n",
       "      <th>year</th>\n",
       "      <th>month</th>\n",
       "      <th>day</th>\n",
       "      <th>day_name</th>\n",
       "      <th>week_number</th>\n",
       "      <th>time</th>\n",
       "      <th>bike_number</th>\n",
       "      <th>temperature</th>\n",
       "      <th>temperature_feels</th>\n",
       "      <th>hum</th>\n",
       "      <th>wind_speed</th>\n",
       "      <th>weather_code</th>\n",
       "      <th>is_holiday</th>\n",
       "      <th>is_weekend</th>\n",
       "      <th>season</th>\n",
       "    </tr>\n",
       "  </thead>\n",
       "  <tbody>\n",
       "    <tr>\n",
       "      <th>0</th>\n",
       "      <td>0</td>\n",
       "      <td>2015-01-04 00:00:00</td>\n",
       "      <td>2004-01-15</td>\n",
       "      <td>2015</td>\n",
       "      <td>Jan</td>\n",
       "      <td>4</td>\n",
       "      <td>Sunday</td>\n",
       "      <td>1</td>\n",
       "      <td>00:00</td>\n",
       "      <td>182</td>\n",
       "      <td>3.0</td>\n",
       "      <td>2.0</td>\n",
       "      <td>93.0</td>\n",
       "      <td>6.0</td>\n",
       "      <td>Broken clouds</td>\n",
       "      <td>0.0</td>\n",
       "      <td>1.0</td>\n",
       "      <td>3.0</td>\n",
       "    </tr>\n",
       "    <tr>\n",
       "      <th>1</th>\n",
       "      <td>1</td>\n",
       "      <td>2015-01-04 01:00:00</td>\n",
       "      <td>2004-01-15</td>\n",
       "      <td>2015</td>\n",
       "      <td>Jan</td>\n",
       "      <td>4</td>\n",
       "      <td>Sunday</td>\n",
       "      <td>1</td>\n",
       "      <td>01:00</td>\n",
       "      <td>138</td>\n",
       "      <td>3.0</td>\n",
       "      <td>2.5</td>\n",
       "      <td>93.0</td>\n",
       "      <td>5.0</td>\n",
       "      <td>Clear</td>\n",
       "      <td>0.0</td>\n",
       "      <td>1.0</td>\n",
       "      <td>3.0</td>\n",
       "    </tr>\n",
       "    <tr>\n",
       "      <th>2</th>\n",
       "      <td>2</td>\n",
       "      <td>2015-01-04 02:00:00</td>\n",
       "      <td>2004-01-15</td>\n",
       "      <td>2015</td>\n",
       "      <td>Jan</td>\n",
       "      <td>4</td>\n",
       "      <td>Sunday</td>\n",
       "      <td>1</td>\n",
       "      <td>02:00</td>\n",
       "      <td>134</td>\n",
       "      <td>2.5</td>\n",
       "      <td>2.5</td>\n",
       "      <td>96.5</td>\n",
       "      <td>0.0</td>\n",
       "      <td>Clear</td>\n",
       "      <td>0.0</td>\n",
       "      <td>1.0</td>\n",
       "      <td>3.0</td>\n",
       "    </tr>\n",
       "    <tr>\n",
       "      <th>3</th>\n",
       "      <td>3</td>\n",
       "      <td>2015-01-04 03:00:00</td>\n",
       "      <td>2004-01-15</td>\n",
       "      <td>2015</td>\n",
       "      <td>Jan</td>\n",
       "      <td>4</td>\n",
       "      <td>Sunday</td>\n",
       "      <td>1</td>\n",
       "      <td>03:00</td>\n",
       "      <td>72</td>\n",
       "      <td>2.0</td>\n",
       "      <td>2.0</td>\n",
       "      <td>100.0</td>\n",
       "      <td>0.0</td>\n",
       "      <td>Clear</td>\n",
       "      <td>0.0</td>\n",
       "      <td>1.0</td>\n",
       "      <td>3.0</td>\n",
       "    </tr>\n",
       "    <tr>\n",
       "      <th>4</th>\n",
       "      <td>4</td>\n",
       "      <td>2015-01-04 04:00:00</td>\n",
       "      <td>2004-01-15</td>\n",
       "      <td>2015</td>\n",
       "      <td>Jan</td>\n",
       "      <td>4</td>\n",
       "      <td>Sunday</td>\n",
       "      <td>1</td>\n",
       "      <td>04:00</td>\n",
       "      <td>47</td>\n",
       "      <td>2.0</td>\n",
       "      <td>0.0</td>\n",
       "      <td>93.0</td>\n",
       "      <td>6.5</td>\n",
       "      <td>Clear</td>\n",
       "      <td>0.0</td>\n",
       "      <td>1.0</td>\n",
       "      <td>3.0</td>\n",
       "    </tr>\n",
       "  </tbody>\n",
       "</table>\n",
       "</div>"
      ],
      "text/plain": [
       "   index            timestamp       date  year month  day day_name  \\\n",
       "0      0  2015-01-04 00:00:00 2004-01-15  2015   Jan    4   Sunday   \n",
       "1      1  2015-01-04 01:00:00 2004-01-15  2015   Jan    4   Sunday   \n",
       "2      2  2015-01-04 02:00:00 2004-01-15  2015   Jan    4   Sunday   \n",
       "3      3  2015-01-04 03:00:00 2004-01-15  2015   Jan    4   Sunday   \n",
       "4      4  2015-01-04 04:00:00 2004-01-15  2015   Jan    4   Sunday   \n",
       "\n",
       "   week_number   time  bike_number  temperature  temperature_feels    hum  \\\n",
       "0            1  00:00          182          3.0                2.0   93.0   \n",
       "1            1  01:00          138          3.0                2.5   93.0   \n",
       "2            1  02:00          134          2.5                2.5   96.5   \n",
       "3            1  03:00           72          2.0                2.0  100.0   \n",
       "4            1  04:00           47          2.0                0.0   93.0   \n",
       "\n",
       "   wind_speed   weather_code  is_holiday  is_weekend  season  \n",
       "0         6.0  Broken clouds         0.0         1.0     3.0  \n",
       "1         5.0          Clear         0.0         1.0     3.0  \n",
       "2         0.0          Clear         0.0         1.0     3.0  \n",
       "3         0.0          Clear         0.0         1.0     3.0  \n",
       "4         6.5          Clear         0.0         1.0     3.0  "
      ]
     },
     "execution_count": 45,
     "metadata": {},
     "output_type": "execute_result"
    }
   ],
   "source": [
    "df.head()"
   ]
  },
  {
   "cell_type": "code",
   "execution_count": 43,
   "metadata": {
    "collapsed": true
   },
   "outputs": [
    {
     "data": {
      "text/plain": [
       "index                         int64\n",
       "timestamp                    object\n",
       "date                 datetime64[ns]\n",
       "year                          int64\n",
       "month                        object\n",
       "day                           int64\n",
       "day_name                     object\n",
       "week_number                   int64\n",
       "time                         object\n",
       "bike_number                   int64\n",
       "temperature                 float64\n",
       "temperature_feels           float64\n",
       "hum                         float64\n",
       "wind_speed                  float64\n",
       "weather_code                 object\n",
       "is_holiday                  float64\n",
       "is_weekend                  float64\n",
       "season                      float64\n",
       "dtype: object"
      ]
     },
     "execution_count": 43,
     "metadata": {},
     "output_type": "execute_result"
    }
   ],
   "source": [
    "df.dtypes"
   ]
  },
  {
   "cell_type": "code",
   "execution_count": 2,
   "metadata": {},
   "outputs": [
    {
     "ename": "NameError",
     "evalue": "name 'df' is not defined",
     "output_type": "error",
     "traceback": [
      "\u001b[1;31m---------------------------------------------------------------------------\u001b[0m",
      "\u001b[1;31mNameError\u001b[0m                                 Traceback (most recent call last)",
      "\u001b[1;32m<ipython-input-2-3526965d00e8>\u001b[0m in \u001b[0;36m<module>\u001b[1;34m\u001b[0m\n\u001b[1;32m----> 1\u001b[1;33m \u001b[0mdf\u001b[0m\u001b[1;33m.\u001b[0m\u001b[0msample\u001b[0m\u001b[1;33m(\u001b[0m\u001b[1;36m25\u001b[0m\u001b[1;33m)\u001b[0m\u001b[1;33m\u001b[0m\u001b[1;33m\u001b[0m\u001b[0m\n\u001b[0m",
      "\u001b[1;31mNameError\u001b[0m: name 'df' is not defined"
     ]
    }
   ],
   "source": [
    "df.sample(25)"
   ]
  },
  {
   "cell_type": "code",
   "execution_count": 17,
   "metadata": {
    "collapsed": true
   },
   "outputs": [
    {
     "data": {
      "text/plain": [
       "0        3.0\n",
       "1        1.0\n",
       "2        1.0\n",
       "3        1.0\n",
       "4        1.0\n",
       "        ... \n",
       "17409    3.0\n",
       "17410    4.0\n",
       "17411    4.0\n",
       "17412    4.0\n",
       "17413    2.0\n",
       "Name: weather_code, Length: 17414, dtype: float64"
      ]
     },
     "execution_count": 17,
     "metadata": {},
     "output_type": "execute_result"
    }
   ],
   "source": [
    "df['weather_code']"
   ]
  },
  {
   "cell_type": "code",
   "execution_count": 27,
   "metadata": {
    "collapsed": true
   },
   "outputs": [
    {
     "name": "stdout",
     "output_type": "stream",
     "text": [
      "<class 'pandas.core.frame.DataFrame'>\n",
      "RangeIndex: 17414 entries, 0 to 17413\n",
      "Data columns (total 18 columns):\n",
      " #   Column             Non-Null Count  Dtype  \n",
      "---  ------             --------------  -----  \n",
      " 0   index              17414 non-null  int64  \n",
      " 1   timestamp          17414 non-null  object \n",
      " 2   date               17414 non-null  object \n",
      " 3   year               17414 non-null  int64  \n",
      " 4   month              17414 non-null  object \n",
      " 5   day                17414 non-null  int64  \n",
      " 6   day_name           17414 non-null  object \n",
      " 7   week_number        17414 non-null  int64  \n",
      " 8   time               17414 non-null  object \n",
      " 9   bike_number        17414 non-null  int64  \n",
      " 10  temperature        17414 non-null  float64\n",
      " 11  temperature_feels  17414 non-null  float64\n",
      " 12  hum                17414 non-null  float64\n",
      " 13  wind_speed         17414 non-null  float64\n",
      " 14  weather_code       17414 non-null  object \n",
      " 15  is_holiday         17414 non-null  float64\n",
      " 16  is_weekend         17414 non-null  float64\n",
      " 17  season             17414 non-null  float64\n",
      "dtypes: float64(7), int64(5), object(6)\n",
      "memory usage: 2.4+ MB\n"
     ]
    }
   ],
   "source": [
    "df.info()"
   ]
  },
  {
   "cell_type": "code",
   "execution_count": 37,
   "metadata": {},
   "outputs": [],
   "source": [
    "df['date']=pd.to_datetime(df['date'], format=\"%Y/%m/%d\")"
   ]
  },
  {
   "cell_type": "code",
   "execution_count": 48,
   "metadata": {
    "collapsed": true
   },
   "outputs": [
    {
     "data": {
      "text/plain": [
       "0       2004-01-15\n",
       "1       2004-01-15\n",
       "2       2004-01-15\n",
       "3       2004-01-15\n",
       "4       2004-01-15\n",
       "           ...    \n",
       "17409   2003-01-17\n",
       "17410   2003-01-17\n",
       "17411   2003-01-17\n",
       "17412   2003-01-17\n",
       "17413   2003-01-17\n",
       "Name: date, Length: 17414, dtype: datetime64[ns]"
      ]
     },
     "execution_count": 48,
     "metadata": {},
     "output_type": "execute_result"
    }
   ],
   "source": [
    "df['date']"
   ]
  },
  {
   "cell_type": "markdown",
   "metadata": {},
   "source": [
    "### Weather Code\n",
    "\n",
    "- 1 = Clear ; mostly clear but have some values with haze/fog/patches of fog/ fog in vicinity\n",
    "- 2 = scattered clouds / few clouds\n",
    "- 3 = Broken clouds\n",
    "- 4 = Cloudy\n",
    "- 7 = Rain/ light Rain shower/ Light rain\n",
    "- 10 = rain with thunderstorm\n",
    "- 26 = snowfall\n",
    "- 94 = Freezing Fog"
   ]
  },
  {
   "cell_type": "code",
   "execution_count": 18,
   "metadata": {},
   "outputs": [],
   "source": [
    "dct1={1.0 : 'Clear',2.0 : 'Few clouds',3.0 : 'Broken clouds',4.0 : 'Cloudy',7.0 : 'Light rain',10.0 : 'Rain & Thunderstorm',26.0 : 'Snowfall',94.0 : 'Freezing Fog'}"
   ]
  },
  {
   "cell_type": "code",
   "execution_count": 19,
   "metadata": {
    "collapsed": true
   },
   "outputs": [
    {
     "data": {
      "text/plain": [
       "{1.0: 'Clear',\n",
       " 2.0: 'Few clouds',\n",
       " 3.0: 'Broken clouds',\n",
       " 4.0: 'Cloudy',\n",
       " 7.0: 'Light rain',\n",
       " 10.0: 'Rain & Thunderstorm',\n",
       " 26.0: 'Snowfall',\n",
       " 94.0: 'Freezing Fog'}"
      ]
     },
     "execution_count": 19,
     "metadata": {},
     "output_type": "execute_result"
    }
   ],
   "source": [
    "dct1"
   ]
  },
  {
   "cell_type": "code",
   "execution_count": 21,
   "metadata": {},
   "outputs": [],
   "source": [
    "df['weather_code']=df['weather_code'].map(dct1)"
   ]
  },
  {
   "cell_type": "code",
   "execution_count": 39,
   "metadata": {},
   "outputs": [
    {
     "data": {
      "text/plain": [
       "(17414, 18)"
      ]
     },
     "execution_count": 39,
     "metadata": {},
     "output_type": "execute_result"
    }
   ],
   "source": [
    "df.shape"
   ]
  },
  {
   "cell_type": "code",
   "execution_count": 38,
   "metadata": {},
   "outputs": [],
   "source": [
    "df.to_csv('london_merged_v2.csv', index=False)"
   ]
  },
  {
   "cell_type": "code",
   "execution_count": 26,
   "metadata": {},
   "outputs": [
    {
     "data": {
      "text/plain": [
       "'C:\\\\Users\\\\Danie'"
      ]
     },
     "execution_count": 26,
     "metadata": {},
     "output_type": "execute_result"
    }
   ],
   "source": [
    "os.getcwd()"
   ]
  },
  {
   "cell_type": "code",
   "execution_count": 3,
   "metadata": {},
   "outputs": [
    {
     "data": {
      "text/html": [
       "<div>\n",
       "<style scoped>\n",
       "    .dataframe tbody tr th:only-of-type {\n",
       "        vertical-align: middle;\n",
       "    }\n",
       "\n",
       "    .dataframe tbody tr th {\n",
       "        vertical-align: top;\n",
       "    }\n",
       "\n",
       "    .dataframe thead th {\n",
       "        text-align: right;\n",
       "    }\n",
       "</style>\n",
       "<table border=\"1\" class=\"dataframe\">\n",
       "  <thead>\n",
       "    <tr style=\"text-align: right;\">\n",
       "      <th></th>\n",
       "      <th>index</th>\n",
       "      <th>timestamp</th>\n",
       "      <th>date</th>\n",
       "      <th>year</th>\n",
       "      <th>month</th>\n",
       "      <th>day</th>\n",
       "      <th>day_name</th>\n",
       "      <th>week_number</th>\n",
       "      <th>time</th>\n",
       "      <th>bike_number</th>\n",
       "      <th>temperature</th>\n",
       "      <th>temperature_feels</th>\n",
       "      <th>hum</th>\n",
       "      <th>wind_speed</th>\n",
       "      <th>weather_code</th>\n",
       "      <th>weather_code_n</th>\n",
       "      <th>is_holiday</th>\n",
       "      <th>is_weekend</th>\n",
       "      <th>season</th>\n",
       "    </tr>\n",
       "  </thead>\n",
       "  <tbody>\n",
       "    <tr>\n",
       "      <th>0</th>\n",
       "      <td>0</td>\n",
       "      <td>2015-01-04 00:00:00</td>\n",
       "      <td>04-01-2015</td>\n",
       "      <td>2015</td>\n",
       "      <td>Jan</td>\n",
       "      <td>4</td>\n",
       "      <td>Sunday</td>\n",
       "      <td>1</td>\n",
       "      <td>00:00</td>\n",
       "      <td>182</td>\n",
       "      <td>3.0</td>\n",
       "      <td>2.0</td>\n",
       "      <td>93.0</td>\n",
       "      <td>6.0</td>\n",
       "      <td>Broken clouds</td>\n",
       "      <td>3</td>\n",
       "      <td>0.0</td>\n",
       "      <td>1.0</td>\n",
       "      <td>3.0</td>\n",
       "    </tr>\n",
       "  </tbody>\n",
       "</table>\n",
       "</div>"
      ],
      "text/plain": [
       "   index            timestamp        date  year month  day day_name  \\\n",
       "0      0  2015-01-04 00:00:00  04-01-2015  2015   Jan    4   Sunday   \n",
       "\n",
       "   week_number   time  bike_number  temperature  temperature_feels   hum  \\\n",
       "0            1  00:00          182          3.0                2.0  93.0   \n",
       "\n",
       "   wind_speed   weather_code  weather_code_n  is_holiday  is_weekend  season  \n",
       "0         6.0  Broken clouds               3         0.0         1.0     3.0  "
      ]
     },
     "execution_count": 3,
     "metadata": {},
     "output_type": "execute_result"
    }
   ],
   "source": [
    "df=pd.read_csv(r'D:\\IronHack\\Projet-Semaine-5-6\\london_bike_sharing\\london_merged_v4.csv')\n",
    "df.head(1)"
   ]
  },
  {
   "cell_type": "markdown",
   "metadata": {},
   "source": [
    "### Plots"
   ]
  },
  {
   "cell_type": "code",
   "execution_count": 4,
   "metadata": {
    "collapsed": true
   },
   "outputs": [
    {
     "data": {
      "text/plain": [
       "count    17342.000000\n",
       "mean        12.500308\n",
       "std          5.558676\n",
       "min         -1.500000\n",
       "25%          8.500000\n",
       "50%         12.500000\n",
       "75%         16.000000\n",
       "max         34.000000\n",
       "Name: temperature, dtype: float64"
      ]
     },
     "execution_count": 4,
     "metadata": {},
     "output_type": "execute_result"
    }
   ],
   "source": [
    "df.temperature.describe()"
   ]
  },
  {
   "cell_type": "code",
   "execution_count": 56,
   "metadata": {
    "collapsed": true
   },
   "outputs": [
    {
     "data": {
      "text/plain": [
       "count    17414.000000\n",
       "mean        11.520836\n",
       "std          6.615145\n",
       "min         -6.000000\n",
       "25%          6.000000\n",
       "50%         12.500000\n",
       "75%         16.000000\n",
       "max         34.000000\n",
       "Name: temperature_feels, dtype: float64"
      ]
     },
     "execution_count": 56,
     "metadata": {},
     "output_type": "execute_result"
    }
   ],
   "source": [
    "df.temperature_feels.describe()"
   ]
  },
  {
   "cell_type": "code",
   "execution_count": 57,
   "metadata": {
    "collapsed": true
   },
   "outputs": [
    {
     "data": {
      "text/plain": [
       "count    17414.000000\n",
       "mean        72.324954\n",
       "std         14.313186\n",
       "min         20.500000\n",
       "25%         63.000000\n",
       "50%         74.500000\n",
       "75%         83.000000\n",
       "max        100.000000\n",
       "Name: hum, dtype: float64"
      ]
     },
     "execution_count": 57,
     "metadata": {},
     "output_type": "execute_result"
    }
   ],
   "source": [
    "df.hum.describe()"
   ]
  },
  {
   "cell_type": "code",
   "execution_count": 58,
   "metadata": {
    "collapsed": true
   },
   "outputs": [
    {
     "data": {
      "text/plain": [
       "count    17414.000000\n",
       "mean        15.913063\n",
       "std          7.894570\n",
       "min          0.000000\n",
       "25%         10.000000\n",
       "50%         15.000000\n",
       "75%         20.500000\n",
       "max         56.500000\n",
       "Name: wind_speed, dtype: float64"
      ]
     },
     "execution_count": 58,
     "metadata": {},
     "output_type": "execute_result"
    }
   ],
   "source": [
    "df.wind_speed.describe()"
   ]
  },
  {
   "cell_type": "code",
   "execution_count": 6,
   "metadata": {
    "collapsed": true
   },
   "outputs": [
    {
     "data": {
      "text/html": [
       "<div>\n",
       "<style scoped>\n",
       "    .dataframe tbody tr th:only-of-type {\n",
       "        vertical-align: middle;\n",
       "    }\n",
       "\n",
       "    .dataframe tbody tr th {\n",
       "        vertical-align: top;\n",
       "    }\n",
       "\n",
       "    .dataframe thead th {\n",
       "        text-align: right;\n",
       "    }\n",
       "</style>\n",
       "<table border=\"1\" class=\"dataframe\">\n",
       "  <thead>\n",
       "    <tr style=\"text-align: right;\">\n",
       "      <th></th>\n",
       "      <th>index</th>\n",
       "      <th>timestamp</th>\n",
       "      <th>date</th>\n",
       "      <th>year</th>\n",
       "      <th>month</th>\n",
       "      <th>day</th>\n",
       "      <th>day_name</th>\n",
       "      <th>week_number</th>\n",
       "      <th>time</th>\n",
       "      <th>bike_number</th>\n",
       "      <th>temperature</th>\n",
       "      <th>temperature_feels</th>\n",
       "      <th>hum</th>\n",
       "      <th>wind_speed</th>\n",
       "      <th>weather_code</th>\n",
       "      <th>weather_code_n</th>\n",
       "      <th>is_holiday</th>\n",
       "      <th>is_weekend</th>\n",
       "      <th>season</th>\n",
       "    </tr>\n",
       "  </thead>\n",
       "  <tbody>\n",
       "    <tr>\n",
       "      <th>10246</th>\n",
       "      <td>10246</td>\n",
       "      <td>2016-03-08 03:00:00</td>\n",
       "      <td>08-03-2016</td>\n",
       "      <td>2016</td>\n",
       "      <td>Mar</td>\n",
       "      <td>8</td>\n",
       "      <td>Tuesday</td>\n",
       "      <td>10</td>\n",
       "      <td>03:00</td>\n",
       "      <td>20</td>\n",
       "      <td>1.5</td>\n",
       "      <td>-1.5</td>\n",
       "      <td>78.0</td>\n",
       "      <td>11.0</td>\n",
       "      <td>Clear</td>\n",
       "      <td>1</td>\n",
       "      <td>0.0</td>\n",
       "      <td>0.0</td>\n",
       "      <td>0.0</td>\n",
       "    </tr>\n",
       "    <tr>\n",
       "      <th>8204</th>\n",
       "      <td>8204</td>\n",
       "      <td>2015-12-13 17:00:00</td>\n",
       "      <td>13-12-2015</td>\n",
       "      <td>2015</td>\n",
       "      <td>Dec</td>\n",
       "      <td>13</td>\n",
       "      <td>Sunday</td>\n",
       "      <td>50</td>\n",
       "      <td>17:00</td>\n",
       "      <td>846</td>\n",
       "      <td>9.0</td>\n",
       "      <td>8.0</td>\n",
       "      <td>94.0</td>\n",
       "      <td>9.0</td>\n",
       "      <td>Broken clouds</td>\n",
       "      <td>3</td>\n",
       "      <td>0.0</td>\n",
       "      <td>1.0</td>\n",
       "      <td>3.0</td>\n",
       "    </tr>\n",
       "    <tr>\n",
       "      <th>15732</th>\n",
       "      <td>15732</td>\n",
       "      <td>2016-10-25 20:00:00</td>\n",
       "      <td>25-10-2016</td>\n",
       "      <td>2016</td>\n",
       "      <td>Oct</td>\n",
       "      <td>25</td>\n",
       "      <td>Tuesday</td>\n",
       "      <td>43</td>\n",
       "      <td>20:00</td>\n",
       "      <td>1255</td>\n",
       "      <td>13.0</td>\n",
       "      <td>13.0</td>\n",
       "      <td>79.5</td>\n",
       "      <td>5.0</td>\n",
       "      <td>Broken clouds</td>\n",
       "      <td>3</td>\n",
       "      <td>0.0</td>\n",
       "      <td>0.0</td>\n",
       "      <td>2.0</td>\n",
       "    </tr>\n",
       "    <tr>\n",
       "      <th>13650</th>\n",
       "      <td>13650</td>\n",
       "      <td>2016-07-29 08:00:00</td>\n",
       "      <td>29-07-2016</td>\n",
       "      <td>2016</td>\n",
       "      <td>Jul</td>\n",
       "      <td>29</td>\n",
       "      <td>Friday</td>\n",
       "      <td>30</td>\n",
       "      <td>08:00</td>\n",
       "      <td>3907</td>\n",
       "      <td>19.0</td>\n",
       "      <td>19.0</td>\n",
       "      <td>73.0</td>\n",
       "      <td>20.0</td>\n",
       "      <td>Broken clouds</td>\n",
       "      <td>3</td>\n",
       "      <td>0.0</td>\n",
       "      <td>0.0</td>\n",
       "      <td>1.0</td>\n",
       "    </tr>\n",
       "    <tr>\n",
       "      <th>1105</th>\n",
       "      <td>1105</td>\n",
       "      <td>2015-02-19 03:00:00</td>\n",
       "      <td>19-02-2015</td>\n",
       "      <td>2015</td>\n",
       "      <td>Feb</td>\n",
       "      <td>19</td>\n",
       "      <td>Thursday</td>\n",
       "      <td>7</td>\n",
       "      <td>03:00</td>\n",
       "      <td>39</td>\n",
       "      <td>5.0</td>\n",
       "      <td>1.0</td>\n",
       "      <td>76.0</td>\n",
       "      <td>19.5</td>\n",
       "      <td>Few clouds</td>\n",
       "      <td>2</td>\n",
       "      <td>0.0</td>\n",
       "      <td>0.0</td>\n",
       "      <td>3.0</td>\n",
       "    </tr>\n",
       "    <tr>\n",
       "      <th>14440</th>\n",
       "      <td>14440</td>\n",
       "      <td>2016-08-31 11:00:00</td>\n",
       "      <td>31-08-2016</td>\n",
       "      <td>2016</td>\n",
       "      <td>Aug</td>\n",
       "      <td>31</td>\n",
       "      <td>Wednesday</td>\n",
       "      <td>35</td>\n",
       "      <td>11:00</td>\n",
       "      <td>1189</td>\n",
       "      <td>21.0</td>\n",
       "      <td>21.0</td>\n",
       "      <td>55.0</td>\n",
       "      <td>22.5</td>\n",
       "      <td>Few clouds</td>\n",
       "      <td>2</td>\n",
       "      <td>0.0</td>\n",
       "      <td>0.0</td>\n",
       "      <td>1.0</td>\n",
       "    </tr>\n",
       "    <tr>\n",
       "      <th>4633</th>\n",
       "      <td>4633</td>\n",
       "      <td>2015-07-16 13:00:00</td>\n",
       "      <td>16-07-2015</td>\n",
       "      <td>2015</td>\n",
       "      <td>Jul</td>\n",
       "      <td>16</td>\n",
       "      <td>Thursday</td>\n",
       "      <td>28</td>\n",
       "      <td>13:00</td>\n",
       "      <td>1651</td>\n",
       "      <td>22.0</td>\n",
       "      <td>22.0</td>\n",
       "      <td>57.0</td>\n",
       "      <td>27.0</td>\n",
       "      <td>Broken clouds</td>\n",
       "      <td>3</td>\n",
       "      <td>0.0</td>\n",
       "      <td>0.0</td>\n",
       "      <td>1.0</td>\n",
       "    </tr>\n",
       "    <tr>\n",
       "      <th>13122</th>\n",
       "      <td>13122</td>\n",
       "      <td>2016-07-07 06:00:00</td>\n",
       "      <td>07-07-2016</td>\n",
       "      <td>2016</td>\n",
       "      <td>Jul</td>\n",
       "      <td>7</td>\n",
       "      <td>Thursday</td>\n",
       "      <td>27</td>\n",
       "      <td>06:00</td>\n",
       "      <td>731</td>\n",
       "      <td>16.0</td>\n",
       "      <td>16.0</td>\n",
       "      <td>65.5</td>\n",
       "      <td>11.0</td>\n",
       "      <td>Clear</td>\n",
       "      <td>1</td>\n",
       "      <td>0.0</td>\n",
       "      <td>0.0</td>\n",
       "      <td>1.0</td>\n",
       "    </tr>\n",
       "    <tr>\n",
       "      <th>6248</th>\n",
       "      <td>6248</td>\n",
       "      <td>2015-09-22 08:00:00</td>\n",
       "      <td>22-09-2015</td>\n",
       "      <td>2015</td>\n",
       "      <td>Sep</td>\n",
       "      <td>22</td>\n",
       "      <td>Tuesday</td>\n",
       "      <td>38</td>\n",
       "      <td>08:00</td>\n",
       "      <td>1587</td>\n",
       "      <td>12.0</td>\n",
       "      <td>12.0</td>\n",
       "      <td>88.0</td>\n",
       "      <td>12.0</td>\n",
       "      <td>Broken clouds</td>\n",
       "      <td>3</td>\n",
       "      <td>0.0</td>\n",
       "      <td>0.0</td>\n",
       "      <td>2.0</td>\n",
       "    </tr>\n",
       "    <tr>\n",
       "      <th>14724</th>\n",
       "      <td>14724</td>\n",
       "      <td>2016-09-13 20:00:00</td>\n",
       "      <td>13-09-2016</td>\n",
       "      <td>2016</td>\n",
       "      <td>Sep</td>\n",
       "      <td>13</td>\n",
       "      <td>Tuesday</td>\n",
       "      <td>37</td>\n",
       "      <td>20:00</td>\n",
       "      <td>1782</td>\n",
       "      <td>24.5</td>\n",
       "      <td>24.5</td>\n",
       "      <td>63.0</td>\n",
       "      <td>15.0</td>\n",
       "      <td>Clear</td>\n",
       "      <td>1</td>\n",
       "      <td>0.0</td>\n",
       "      <td>0.0</td>\n",
       "      <td>2.0</td>\n",
       "    </tr>\n",
       "    <tr>\n",
       "      <th>2953</th>\n",
       "      <td>2953</td>\n",
       "      <td>2015-05-07 09:00:00</td>\n",
       "      <td>07-05-2015</td>\n",
       "      <td>2015</td>\n",
       "      <td>May</td>\n",
       "      <td>7</td>\n",
       "      <td>Thursday</td>\n",
       "      <td>18</td>\n",
       "      <td>09:00</td>\n",
       "      <td>2169</td>\n",
       "      <td>12.5</td>\n",
       "      <td>12.5</td>\n",
       "      <td>69.5</td>\n",
       "      <td>19.5</td>\n",
       "      <td>Broken clouds</td>\n",
       "      <td>3</td>\n",
       "      <td>0.0</td>\n",
       "      <td>0.0</td>\n",
       "      <td>0.0</td>\n",
       "    </tr>\n",
       "    <tr>\n",
       "      <th>11409</th>\n",
       "      <td>11409</td>\n",
       "      <td>2016-04-26 06:00:00</td>\n",
       "      <td>26-04-2016</td>\n",
       "      <td>2016</td>\n",
       "      <td>Apr</td>\n",
       "      <td>26</td>\n",
       "      <td>Tuesday</td>\n",
       "      <td>17</td>\n",
       "      <td>06:00</td>\n",
       "      <td>700</td>\n",
       "      <td>4.0</td>\n",
       "      <td>0.0</td>\n",
       "      <td>65.0</td>\n",
       "      <td>18.5</td>\n",
       "      <td>Clear</td>\n",
       "      <td>1</td>\n",
       "      <td>0.0</td>\n",
       "      <td>0.0</td>\n",
       "      <td>0.0</td>\n",
       "    </tr>\n",
       "    <tr>\n",
       "      <th>1549</th>\n",
       "      <td>1549</td>\n",
       "      <td>2015-03-09 15:00:00</td>\n",
       "      <td>09-03-2015</td>\n",
       "      <td>2015</td>\n",
       "      <td>Mar</td>\n",
       "      <td>9</td>\n",
       "      <td>Monday</td>\n",
       "      <td>10</td>\n",
       "      <td>15:00</td>\n",
       "      <td>908</td>\n",
       "      <td>10.0</td>\n",
       "      <td>8.0</td>\n",
       "      <td>82.0</td>\n",
       "      <td>18.0</td>\n",
       "      <td>Broken clouds</td>\n",
       "      <td>3</td>\n",
       "      <td>0.0</td>\n",
       "      <td>0.0</td>\n",
       "      <td>0.0</td>\n",
       "    </tr>\n",
       "    <tr>\n",
       "      <th>4265</th>\n",
       "      <td>4265</td>\n",
       "      <td>2015-07-01 04:00:00</td>\n",
       "      <td>01-07-2015</td>\n",
       "      <td>2015</td>\n",
       "      <td>Jul</td>\n",
       "      <td>1</td>\n",
       "      <td>Wednesday</td>\n",
       "      <td>26</td>\n",
       "      <td>04:00</td>\n",
       "      <td>71</td>\n",
       "      <td>20.0</td>\n",
       "      <td>20.0</td>\n",
       "      <td>69.0</td>\n",
       "      <td>12.0</td>\n",
       "      <td>Clear</td>\n",
       "      <td>1</td>\n",
       "      <td>0.0</td>\n",
       "      <td>0.0</td>\n",
       "      <td>1.0</td>\n",
       "    </tr>\n",
       "    <tr>\n",
       "      <th>3608</th>\n",
       "      <td>3608</td>\n",
       "      <td>2015-06-03 16:00:00</td>\n",
       "      <td>03-06-2015</td>\n",
       "      <td>2015</td>\n",
       "      <td>Jun</td>\n",
       "      <td>3</td>\n",
       "      <td>Wednesday</td>\n",
       "      <td>22</td>\n",
       "      <td>16:00</td>\n",
       "      <td>2135</td>\n",
       "      <td>20.0</td>\n",
       "      <td>20.0</td>\n",
       "      <td>37.5</td>\n",
       "      <td>15.0</td>\n",
       "      <td>Clear</td>\n",
       "      <td>1</td>\n",
       "      <td>0.0</td>\n",
       "      <td>0.0</td>\n",
       "      <td>1.0</td>\n",
       "    </tr>\n",
       "    <tr>\n",
       "      <th>14553</th>\n",
       "      <td>14553</td>\n",
       "      <td>2016-09-06 17:00:00</td>\n",
       "      <td>06-09-2016</td>\n",
       "      <td>2016</td>\n",
       "      <td>Sep</td>\n",
       "      <td>6</td>\n",
       "      <td>Tuesday</td>\n",
       "      <td>36</td>\n",
       "      <td>17:00</td>\n",
       "      <td>4494</td>\n",
       "      <td>24.0</td>\n",
       "      <td>24.0</td>\n",
       "      <td>69.0</td>\n",
       "      <td>7.0</td>\n",
       "      <td>Broken clouds</td>\n",
       "      <td>3</td>\n",
       "      <td>0.0</td>\n",
       "      <td>0.0</td>\n",
       "      <td>2.0</td>\n",
       "    </tr>\n",
       "    <tr>\n",
       "      <th>2294</th>\n",
       "      <td>2294</td>\n",
       "      <td>2015-04-09 22:00:00</td>\n",
       "      <td>09-04-2015</td>\n",
       "      <td>2015</td>\n",
       "      <td>Apr</td>\n",
       "      <td>9</td>\n",
       "      <td>Thursday</td>\n",
       "      <td>14</td>\n",
       "      <td>22:00</td>\n",
       "      <td>645</td>\n",
       "      <td>10.5</td>\n",
       "      <td>10.0</td>\n",
       "      <td>79.5</td>\n",
       "      <td>8.0</td>\n",
       "      <td>Clear</td>\n",
       "      <td>1</td>\n",
       "      <td>0.0</td>\n",
       "      <td>0.0</td>\n",
       "      <td>0.0</td>\n",
       "    </tr>\n",
       "    <tr>\n",
       "      <th>4388</th>\n",
       "      <td>4388</td>\n",
       "      <td>2015-07-06 07:00:00</td>\n",
       "      <td>06-07-2015</td>\n",
       "      <td>2015</td>\n",
       "      <td>Jul</td>\n",
       "      <td>6</td>\n",
       "      <td>Monday</td>\n",
       "      <td>27</td>\n",
       "      <td>07:00</td>\n",
       "      <td>2364</td>\n",
       "      <td>16.5</td>\n",
       "      <td>16.5</td>\n",
       "      <td>70.0</td>\n",
       "      <td>11.0</td>\n",
       "      <td>Clear</td>\n",
       "      <td>1</td>\n",
       "      <td>0.0</td>\n",
       "      <td>0.0</td>\n",
       "      <td>1.0</td>\n",
       "    </tr>\n",
       "    <tr>\n",
       "      <th>3159</th>\n",
       "      <td>3159</td>\n",
       "      <td>2015-05-15 23:00:00</td>\n",
       "      <td>15-05-2015</td>\n",
       "      <td>2015</td>\n",
       "      <td>May</td>\n",
       "      <td>15</td>\n",
       "      <td>Friday</td>\n",
       "      <td>19</td>\n",
       "      <td>23:00</td>\n",
       "      <td>540</td>\n",
       "      <td>12.0</td>\n",
       "      <td>12.0</td>\n",
       "      <td>82.0</td>\n",
       "      <td>21.0</td>\n",
       "      <td>Light rain</td>\n",
       "      <td>7</td>\n",
       "      <td>0.0</td>\n",
       "      <td>0.0</td>\n",
       "      <td>0.0</td>\n",
       "    </tr>\n",
       "    <tr>\n",
       "      <th>2773</th>\n",
       "      <td>2773</td>\n",
       "      <td>2015-04-29 21:00:00</td>\n",
       "      <td>29-04-2015</td>\n",
       "      <td>2015</td>\n",
       "      <td>Apr</td>\n",
       "      <td>29</td>\n",
       "      <td>Wednesday</td>\n",
       "      <td>17</td>\n",
       "      <td>21:00</td>\n",
       "      <td>782</td>\n",
       "      <td>9.0</td>\n",
       "      <td>7.0</td>\n",
       "      <td>71.0</td>\n",
       "      <td>15.0</td>\n",
       "      <td>Clear</td>\n",
       "      <td>1</td>\n",
       "      <td>0.0</td>\n",
       "      <td>0.0</td>\n",
       "      <td>0.0</td>\n",
       "    </tr>\n",
       "  </tbody>\n",
       "</table>\n",
       "</div>"
      ],
      "text/plain": [
       "       index            timestamp        date  year month  day   day_name  \\\n",
       "10246  10246  2016-03-08 03:00:00  08-03-2016  2016   Mar    8    Tuesday   \n",
       "8204    8204  2015-12-13 17:00:00  13-12-2015  2015   Dec   13     Sunday   \n",
       "15732  15732  2016-10-25 20:00:00  25-10-2016  2016   Oct   25    Tuesday   \n",
       "13650  13650  2016-07-29 08:00:00  29-07-2016  2016   Jul   29     Friday   \n",
       "1105    1105  2015-02-19 03:00:00  19-02-2015  2015   Feb   19   Thursday   \n",
       "14440  14440  2016-08-31 11:00:00  31-08-2016  2016   Aug   31  Wednesday   \n",
       "4633    4633  2015-07-16 13:00:00  16-07-2015  2015   Jul   16   Thursday   \n",
       "13122  13122  2016-07-07 06:00:00  07-07-2016  2016   Jul    7   Thursday   \n",
       "6248    6248  2015-09-22 08:00:00  22-09-2015  2015   Sep   22    Tuesday   \n",
       "14724  14724  2016-09-13 20:00:00  13-09-2016  2016   Sep   13    Tuesday   \n",
       "2953    2953  2015-05-07 09:00:00  07-05-2015  2015   May    7   Thursday   \n",
       "11409  11409  2016-04-26 06:00:00  26-04-2016  2016   Apr   26    Tuesday   \n",
       "1549    1549  2015-03-09 15:00:00  09-03-2015  2015   Mar    9     Monday   \n",
       "4265    4265  2015-07-01 04:00:00  01-07-2015  2015   Jul    1  Wednesday   \n",
       "3608    3608  2015-06-03 16:00:00  03-06-2015  2015   Jun    3  Wednesday   \n",
       "14553  14553  2016-09-06 17:00:00  06-09-2016  2016   Sep    6    Tuesday   \n",
       "2294    2294  2015-04-09 22:00:00  09-04-2015  2015   Apr    9   Thursday   \n",
       "4388    4388  2015-07-06 07:00:00  06-07-2015  2015   Jul    6     Monday   \n",
       "3159    3159  2015-05-15 23:00:00  15-05-2015  2015   May   15     Friday   \n",
       "2773    2773  2015-04-29 21:00:00  29-04-2015  2015   Apr   29  Wednesday   \n",
       "\n",
       "       week_number   time  bike_number  temperature  temperature_feels   hum  \\\n",
       "10246           10  03:00           20          1.5               -1.5  78.0   \n",
       "8204            50  17:00          846          9.0                8.0  94.0   \n",
       "15732           43  20:00         1255         13.0               13.0  79.5   \n",
       "13650           30  08:00         3907         19.0               19.0  73.0   \n",
       "1105             7  03:00           39          5.0                1.0  76.0   \n",
       "14440           35  11:00         1189         21.0               21.0  55.0   \n",
       "4633            28  13:00         1651         22.0               22.0  57.0   \n",
       "13122           27  06:00          731         16.0               16.0  65.5   \n",
       "6248            38  08:00         1587         12.0               12.0  88.0   \n",
       "14724           37  20:00         1782         24.5               24.5  63.0   \n",
       "2953            18  09:00         2169         12.5               12.5  69.5   \n",
       "11409           17  06:00          700          4.0                0.0  65.0   \n",
       "1549            10  15:00          908         10.0                8.0  82.0   \n",
       "4265            26  04:00           71         20.0               20.0  69.0   \n",
       "3608            22  16:00         2135         20.0               20.0  37.5   \n",
       "14553           36  17:00         4494         24.0               24.0  69.0   \n",
       "2294            14  22:00          645         10.5               10.0  79.5   \n",
       "4388            27  07:00         2364         16.5               16.5  70.0   \n",
       "3159            19  23:00          540         12.0               12.0  82.0   \n",
       "2773            17  21:00          782          9.0                7.0  71.0   \n",
       "\n",
       "       wind_speed   weather_code  weather_code_n  is_holiday  is_weekend  \\\n",
       "10246        11.0          Clear               1         0.0         0.0   \n",
       "8204          9.0  Broken clouds               3         0.0         1.0   \n",
       "15732         5.0  Broken clouds               3         0.0         0.0   \n",
       "13650        20.0  Broken clouds               3         0.0         0.0   \n",
       "1105         19.5     Few clouds               2         0.0         0.0   \n",
       "14440        22.5     Few clouds               2         0.0         0.0   \n",
       "4633         27.0  Broken clouds               3         0.0         0.0   \n",
       "13122        11.0          Clear               1         0.0         0.0   \n",
       "6248         12.0  Broken clouds               3         0.0         0.0   \n",
       "14724        15.0          Clear               1         0.0         0.0   \n",
       "2953         19.5  Broken clouds               3         0.0         0.0   \n",
       "11409        18.5          Clear               1         0.0         0.0   \n",
       "1549         18.0  Broken clouds               3         0.0         0.0   \n",
       "4265         12.0          Clear               1         0.0         0.0   \n",
       "3608         15.0          Clear               1         0.0         0.0   \n",
       "14553         7.0  Broken clouds               3         0.0         0.0   \n",
       "2294          8.0          Clear               1         0.0         0.0   \n",
       "4388         11.0          Clear               1         0.0         0.0   \n",
       "3159         21.0     Light rain               7         0.0         0.0   \n",
       "2773         15.0          Clear               1         0.0         0.0   \n",
       "\n",
       "       season  \n",
       "10246     0.0  \n",
       "8204      3.0  \n",
       "15732     2.0  \n",
       "13650     1.0  \n",
       "1105      3.0  \n",
       "14440     1.0  \n",
       "4633      1.0  \n",
       "13122     1.0  \n",
       "6248      2.0  \n",
       "14724     2.0  \n",
       "2953      0.0  \n",
       "11409     0.0  \n",
       "1549      0.0  \n",
       "4265      1.0  \n",
       "3608      1.0  \n",
       "14553     2.0  \n",
       "2294      0.0  \n",
       "4388      1.0  \n",
       "3159      0.0  \n",
       "2773      0.0  "
      ]
     },
     "execution_count": 6,
     "metadata": {},
     "output_type": "execute_result"
    }
   ],
   "source": [
    "df.sample(20)"
   ]
  },
  {
   "cell_type": "code",
   "execution_count": 8,
   "metadata": {
    "collapsed": true
   },
   "outputs": [
    {
     "name": "stderr",
     "output_type": "stream",
     "text": [
      "D:\\IronHack\\.conda\\lib\\site-packages\\seaborn\\_decorators.py:36: FutureWarning: Pass the following variables as keyword args: x, y. From version 0.12, the only valid positional argument will be `data`, and passing other arguments without an explicit keyword will result in an error or misinterpretation.\n",
      "  warnings.warn(\n"
     ]
    },
    {
     "data": {
      "text/plain": [
       "<AxesSubplot:xlabel='hum', ylabel='temperature'>"
      ]
     },
     "execution_count": 8,
     "metadata": {},
     "output_type": "execute_result"
    },
    {
     "data": {
      "image/png": "[encoded data removed]",
      "text/plain": [
       "<Figure size 432x288 with 1 Axes>"
      ]
     },
     "metadata": {
      "needs_background": "light"
     },
     "output_type": "display_data"
    }
   ],
   "source": [
    "sns.lineplot(df['hum'], df['temperature'])"
   ]
  },
  {
   "cell_type": "code",
   "execution_count": 27,
   "metadata": {
    "collapsed": true
   },
   "outputs": [
    {
     "data": {
      "image/png": "[encoded data removed]",
      "text/plain": [
       "<Figure size 432x288 with 1 Axes>"
      ]
     },
     "metadata": {},
     "output_type": "display_data"
    }
   ],
   "source": [
    "sns.set(style=\"darkgrid\")\n",
    "fig = sns.kdeplot(df['temperature'], shade=True, color=\"r\")\n",
    "fig = sns.kdeplot(df['hum'], shade=True, color=\"b\")\n",
    "plt.show()"
   ]
  },
  {
   "cell_type": "code",
   "execution_count": 31,
   "metadata": {
    "collapsed": true
   },
   "outputs": [
    {
     "data": {
      "image/png": "[encoded data removed]",
      "text/plain": [
       "<Figure size 432x288 with 1 Axes>"
      ]
     },
     "metadata": {},
     "output_type": "display_data"
    }
   ],
   "source": [
    "sns.set(style=\"darkgrid\")\n",
    "fig = sns.kdeplot(df['temperature'], shade=True, color=\"r\")\n",
    "fig = sns.kdeplot(df['wind_speed'], shade=True, color=\"b\")\n",
    "plt.show()"
   ]
  },
  {
   "cell_type": "code",
   "execution_count": 41,
   "metadata": {
    "collapsed": true
   },
   "outputs": [
    {
     "data": {
      "image/png": "[encoded data removed]",
      "text/plain": [
       "<Figure size 432x288 with 1 Axes>"
      ]
     },
     "metadata": {},
     "output_type": "display_data"
    }
   ],
   "source": [
    "sns.set(style=\"darkgrid\")\n",
    "fig = sns.histplot(x=df['temperature'], y=df['weather_code'])\n",
    "plt.show()"
   ]
  },
  {
   "cell_type": "code",
   "execution_count": 44,
   "metadata": {
    "collapsed": true
   },
   "outputs": [
    {
     "ename": "ValueError",
     "evalue": "x and y must have same first dimension, but have shapes (999,) and (17342,)",
     "output_type": "error",
     "traceback": [
      "\u001b[1;31m---------------------------------------------------------------------------\u001b[0m",
      "\u001b[1;31mValueError\u001b[0m                                Traceback (most recent call last)",
      "\u001b[1;32m<ipython-input-44-1b19c857fcb9>\u001b[0m in \u001b[0;36m<module>\u001b[1;34m\u001b[0m\n\u001b[0;32m      9\u001b[0m \u001b[0max1\u001b[0m\u001b[1;33m.\u001b[0m\u001b[0mset_xlabel\u001b[0m\u001b[1;33m(\u001b[0m\u001b[1;34m'time (s)'\u001b[0m\u001b[1;33m)\u001b[0m\u001b[1;33m\u001b[0m\u001b[1;33m\u001b[0m\u001b[0m\n\u001b[0;32m     10\u001b[0m \u001b[0max1\u001b[0m\u001b[1;33m.\u001b[0m\u001b[0mset_ylabel\u001b[0m\u001b[1;33m(\u001b[0m\u001b[1;34m'exp'\u001b[0m\u001b[1;33m,\u001b[0m \u001b[0mcolor\u001b[0m\u001b[1;33m=\u001b[0m\u001b[0mcolor\u001b[0m\u001b[1;33m)\u001b[0m\u001b[1;33m\u001b[0m\u001b[1;33m\u001b[0m\u001b[0m\n\u001b[1;32m---> 11\u001b[1;33m \u001b[0max1\u001b[0m\u001b[1;33m.\u001b[0m\u001b[0mplot\u001b[0m\u001b[1;33m(\u001b[0m\u001b[0mt\u001b[0m\u001b[1;33m,\u001b[0m \u001b[0mdata1\u001b[0m\u001b[1;33m,\u001b[0m \u001b[0mcolor\u001b[0m\u001b[1;33m=\u001b[0m\u001b[0mcolor\u001b[0m\u001b[1;33m)\u001b[0m\u001b[1;33m\u001b[0m\u001b[1;33m\u001b[0m\u001b[0m\n\u001b[0m\u001b[0;32m     12\u001b[0m \u001b[0max1\u001b[0m\u001b[1;33m.\u001b[0m\u001b[0mtick_params\u001b[0m\u001b[1;33m(\u001b[0m\u001b[0maxis\u001b[0m\u001b[1;33m=\u001b[0m\u001b[1;34m'y'\u001b[0m\u001b[1;33m,\u001b[0m \u001b[0mlabelcolor\u001b[0m\u001b[1;33m=\u001b[0m\u001b[0mcolor\u001b[0m\u001b[1;33m)\u001b[0m\u001b[1;33m\u001b[0m\u001b[1;33m\u001b[0m\u001b[0m\n\u001b[0;32m     13\u001b[0m \u001b[1;33m\u001b[0m\u001b[0m\n",
      "\u001b[1;32mD:\\IronHack\\.conda\\lib\\site-packages\\matplotlib\\axes\\_axes.py\u001b[0m in \u001b[0;36mplot\u001b[1;34m(self, scalex, scaley, data, *args, **kwargs)\u001b[0m\n\u001b[0;32m   1741\u001b[0m         \"\"\"\n\u001b[0;32m   1742\u001b[0m         \u001b[0mkwargs\u001b[0m \u001b[1;33m=\u001b[0m \u001b[0mcbook\u001b[0m\u001b[1;33m.\u001b[0m\u001b[0mnormalize_kwargs\u001b[0m\u001b[1;33m(\u001b[0m\u001b[0mkwargs\u001b[0m\u001b[1;33m,\u001b[0m \u001b[0mmlines\u001b[0m\u001b[1;33m.\u001b[0m\u001b[0mLine2D\u001b[0m\u001b[1;33m)\u001b[0m\u001b[1;33m\u001b[0m\u001b[1;33m\u001b[0m\u001b[0m\n\u001b[1;32m-> 1743\u001b[1;33m         \u001b[0mlines\u001b[0m \u001b[1;33m=\u001b[0m \u001b[1;33m[\u001b[0m\u001b[1;33m*\u001b[0m\u001b[0mself\u001b[0m\u001b[1;33m.\u001b[0m\u001b[0m_get_lines\u001b[0m\u001b[1;33m(\u001b[0m\u001b[1;33m*\u001b[0m\u001b[0margs\u001b[0m\u001b[1;33m,\u001b[0m \u001b[0mdata\u001b[0m\u001b[1;33m=\u001b[0m\u001b[0mdata\u001b[0m\u001b[1;33m,\u001b[0m \u001b[1;33m**\u001b[0m\u001b[0mkwargs\u001b[0m\u001b[1;33m)\u001b[0m\u001b[1;33m]\u001b[0m\u001b[1;33m\u001b[0m\u001b[1;33m\u001b[0m\u001b[0m\n\u001b[0m\u001b[0;32m   1744\u001b[0m         \u001b[1;32mfor\u001b[0m \u001b[0mline\u001b[0m \u001b[1;32min\u001b[0m \u001b[0mlines\u001b[0m\u001b[1;33m:\u001b[0m\u001b[1;33m\u001b[0m\u001b[1;33m\u001b[0m\u001b[0m\n\u001b[0;32m   1745\u001b[0m             \u001b[0mself\u001b[0m\u001b[1;33m.\u001b[0m\u001b[0madd_line\u001b[0m\u001b[1;33m(\u001b[0m\u001b[0mline\u001b[0m\u001b[1;33m)\u001b[0m\u001b[1;33m\u001b[0m\u001b[1;33m\u001b[0m\u001b[0m\n",
      "\u001b[1;32mD:\\IronHack\\.conda\\lib\\site-packages\\matplotlib\\axes\\_base.py\u001b[0m in \u001b[0;36m__call__\u001b[1;34m(self, data, *args, **kwargs)\u001b[0m\n\u001b[0;32m    271\u001b[0m                 \u001b[0mthis\u001b[0m \u001b[1;33m+=\u001b[0m \u001b[0margs\u001b[0m\u001b[1;33m[\u001b[0m\u001b[1;36m0\u001b[0m\u001b[1;33m]\u001b[0m\u001b[1;33m,\u001b[0m\u001b[1;33m\u001b[0m\u001b[1;33m\u001b[0m\u001b[0m\n\u001b[0;32m    272\u001b[0m                 \u001b[0margs\u001b[0m \u001b[1;33m=\u001b[0m \u001b[0margs\u001b[0m\u001b[1;33m[\u001b[0m\u001b[1;36m1\u001b[0m\u001b[1;33m:\u001b[0m\u001b[1;33m]\u001b[0m\u001b[1;33m\u001b[0m\u001b[1;33m\u001b[0m\u001b[0m\n\u001b[1;32m--> 273\u001b[1;33m             \u001b[1;32myield\u001b[0m \u001b[1;32mfrom\u001b[0m \u001b[0mself\u001b[0m\u001b[1;33m.\u001b[0m\u001b[0m_plot_args\u001b[0m\u001b[1;33m(\u001b[0m\u001b[0mthis\u001b[0m\u001b[1;33m,\u001b[0m \u001b[0mkwargs\u001b[0m\u001b[1;33m)\u001b[0m\u001b[1;33m\u001b[0m\u001b[1;33m\u001b[0m\u001b[0m\n\u001b[0m\u001b[0;32m    274\u001b[0m \u001b[1;33m\u001b[0m\u001b[0m\n\u001b[0;32m    275\u001b[0m     \u001b[1;32mdef\u001b[0m \u001b[0mget_next_color\u001b[0m\u001b[1;33m(\u001b[0m\u001b[0mself\u001b[0m\u001b[1;33m)\u001b[0m\u001b[1;33m:\u001b[0m\u001b[1;33m\u001b[0m\u001b[1;33m\u001b[0m\u001b[0m\n",
      "\u001b[1;32mD:\\IronHack\\.conda\\lib\\site-packages\\matplotlib\\axes\\_base.py\u001b[0m in \u001b[0;36m_plot_args\u001b[1;34m(self, tup, kwargs)\u001b[0m\n\u001b[0;32m    397\u001b[0m \u001b[1;33m\u001b[0m\u001b[0m\n\u001b[0;32m    398\u001b[0m         \u001b[1;32mif\u001b[0m \u001b[0mx\u001b[0m\u001b[1;33m.\u001b[0m\u001b[0mshape\u001b[0m\u001b[1;33m[\u001b[0m\u001b[1;36m0\u001b[0m\u001b[1;33m]\u001b[0m \u001b[1;33m!=\u001b[0m \u001b[0my\u001b[0m\u001b[1;33m.\u001b[0m\u001b[0mshape\u001b[0m\u001b[1;33m[\u001b[0m\u001b[1;36m0\u001b[0m\u001b[1;33m]\u001b[0m\u001b[1;33m:\u001b[0m\u001b[1;33m\u001b[0m\u001b[1;33m\u001b[0m\u001b[0m\n\u001b[1;32m--> 399\u001b[1;33m             raise ValueError(f\"x and y must have same first dimension, but \"\n\u001b[0m\u001b[0;32m    400\u001b[0m                              f\"have shapes {x.shape} and {y.shape}\")\n\u001b[0;32m    401\u001b[0m         \u001b[1;32mif\u001b[0m \u001b[0mx\u001b[0m\u001b[1;33m.\u001b[0m\u001b[0mndim\u001b[0m \u001b[1;33m>\u001b[0m \u001b[1;36m2\u001b[0m \u001b[1;32mor\u001b[0m \u001b[0my\u001b[0m\u001b[1;33m.\u001b[0m\u001b[0mndim\u001b[0m \u001b[1;33m>\u001b[0m \u001b[1;36m2\u001b[0m\u001b[1;33m:\u001b[0m\u001b[1;33m\u001b[0m\u001b[1;33m\u001b[0m\u001b[0m\n",
      "\u001b[1;31mValueError\u001b[0m: x and y must have same first dimension, but have shapes (999,) and (17342,)"
     ]
    },
    {
     "data": {
      "image/png": "[encoded data removed]",
      "text/plain": [
       "<Figure size 432x288 with 1 Axes>"
      ]
     },
     "metadata": {},
     "output_type": "display_data"
    }
   ],
   "source": [
    "# Create some mock data\n",
    "t = np.arange(0.01, 10.0, 0.01)\n",
    "data1 = df['temperature']\n",
    "data2 = df['hum']\n",
    "\n",
    "fig, ax1 = plt.subplots()\n",
    "\n",
    "color = 'tab:red'\n",
    "ax1.set_xlabel('time (s)')\n",
    "ax1.set_ylabel('exp', color=color)\n",
    "ax1.plot(t, data1, color=color)\n",
    "ax1.tick_params(axis='y', labelcolor=color)\n",
    "\n",
    "ax2 = ax1.twinx()  # instantiate a second axes that shares the same x-axis\n",
    "\n",
    "color = 'tab:blue'\n",
    "ax2.set_ylabel('sin', color=color)  # we already handled the x-label with ax1\n",
    "ax2.plot(t, data2, color=color)\n",
    "ax2.tick_params(axis='y', labelcolor=color)\n",
    "\n",
    "fig.tight_layout()  # otherwise the right y-label is slightly clipped\n",
    "plt.show()"
   ]
  },
  {
   "cell_type": "code",
   "execution_count": null,
   "metadata": {},
   "outputs": [],
   "source": []
  }
 ],
 "metadata": {
  "kernelspec": {
   "display_name": "Python 3",
   "language": "python",
   "name": "python3"
  },
  "language_info": {
   "codemirror_mode": {
    "name": "ipython",
    "version": 3
   },
   "file_extension": ".py",
   "mimetype": "text/x-python",
   "name": "python",
   "nbconvert_exporter": "python",
   "pygments_lexer": "ipython3",
   "version": "3.8.5"
  }
 },
 "nbformat": 4,
 "nbformat_minor": 4
}
